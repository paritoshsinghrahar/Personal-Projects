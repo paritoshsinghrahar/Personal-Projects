{
 "cells": [
  {
   "cell_type": "markdown",
   "metadata": {},
   "source": [
    "#### The dataset is highly skewed toward the cities included in Delhi-NCR. So, we will summarise all the other cities in Rest of India while those in New Delhi, Ghaziabad, Noida, Gurgaon, Faridabad to Delhi-NCR. Doing this would make our analysis turn toward Delhi-NCR v Rest of India."
   ]
  },
  {
   "cell_type": "markdown",
   "metadata": {},
   "source": [
    "#### 1 a)\n",
    "\n",
    "#### Plot the bar graph of number of restaurants present in Delhi NCR vs Rest of India."
   ]
  },
  {
   "cell_type": "code",
   "execution_count": 6,
   "metadata": {},
   "outputs": [
    {
     "name": "stdout",
     "output_type": "stream",
     "text": [
      "Delhi-NCR 7947\n",
      "RoIndia 705\n"
     ]
    },
    {
     "data": {
      "image/png": "[encoded data removed]",
      "text/plain": [
       "<Figure size 720x720 with 1 Axes>"
      ]
     },
     "metadata": {
      "needs_background": "light"
     },
     "output_type": "display_data"
    }
   ],
   "source": [
    "#setpath\n",
    "path = 'zomato2.csv'\n",
    "\n",
    "#import libraries\n",
    "import pandas as pd\n",
    "import numpy as np\n",
    "import matplotlib.pyplot as plt\n",
    "import matplotlib \n",
    "\n",
    "df = pd.read_csv(path)\n",
    "df = df[df['Country Code'] == 1]\n",
    "\n",
    "#replace error entries\n",
    "df['City'].dropna(inplace=True)\n",
    "df['City'].replace(\"New Delhi\",\"Delhi-NCR\",inplace=True)\n",
    "df['City'].replace(\"Ghaziabad\",\"Delhi-NCR\",inplace=True)\n",
    "df['City'].replace(\"Noida\",\"Delhi-NCR\",inplace=True)\n",
    "df['City'].replace(\"Gurgaon\",\"Delhi-NCR\",inplace=True)\n",
    "df['City'].replace(\"Faridabad\",\"Delhi-NCR\",inplace=True)\n",
    "\n",
    "\n",
    "#Set Rest of India \n",
    "df['City'] = np.where(df['City']!=\"Delhi-NCR\",'RoIndia','Delhi-NCR')\n",
    "\n",
    "m=df.City.value_counts()\n",
    "x=m.index\n",
    "y=m.values\n",
    "for i in range(len(m)):\n",
    "    print(x[i],y[i])\n",
    "    \n",
    "#Plot Graph\n",
    "plt.title('No. of Restaurant in Delhi-NCR V/S Rest of India', fontsize=\"15\")\n",
    "plt.xlabel('Regions',fontsize=\"12\")\n",
    "plt.ylabel('No. of Restaurant',fontsize=\"12\")\n",
    "plt.xticks(rotation = 90)\n",
    "matplotlib.rcParams['figure.figsize'] = [10,10]\n",
    "plt.bar(x,y,color = 'yellow', edgecolor = 'black')\n",
    "plt.show()"
   ]
  },
  {
   "cell_type": "markdown",
   "metadata": {},
   "source": [
    "#### 1 b)\n",
    "\n",
    "#### Find the cuisines which are not present in restaurant of Delhi NCR but present in rest of India. Check using Zomato API whether this cuisines are actually not served in restaurants of Delhi-NCR or just it due to incomplete dataset."
   ]
  },
  {
   "cell_type": "code",
   "execution_count": 3,
   "metadata": {},
   "outputs": [
    {
     "name": "stdout",
     "output_type": "stream",
     "text": [
      "Cuisines not served are:\n",
      "{'BBQ', 'Cajun', 'German', 'Malwani'}\n"
     ]
    }
   ],
   "source": [
    "#setpath\n",
    "path = 'zomato2.csv'\n",
    "\n",
    "#import libraries\n",
    "import pandas as pd\n",
    "import numpy as np\n",
    "import matplotlib.pyplot as plt\n",
    "import matplotlib \n",
    "\n",
    "df = pd.read_csv(path)\n",
    "df = df[df['Country Code'] == 1]\n",
    "\n",
    "#replace error entries\n",
    "df['City'].dropna(inplace=True)\n",
    "df['City'].replace(\"New Delhi\",\"Delhi-NCR\",inplace=True)\n",
    "df['City'].replace(\"Ghaziabad\",\"Delhi-NCR\",inplace=True)\n",
    "df['City'].replace(\"Noida\",\"Delhi-NCR\",inplace=True)\n",
    "df['City'].replace(\"Gurgaon\",\"Delhi-NCR\",inplace=True)\n",
    "df['City'].replace(\"Faridabad\",\"Delhi-NCR\",inplace=True)\n",
    "\n",
    "\n",
    "#Set Rest of India \n",
    "df['City'] = np.where(df['City']!=\"Delhi-NCR\",'RoIndia','Delhi-NCR')\n",
    "\n",
    "D_Set = set() # Delhi-NCR set\n",
    "R_Set = set() # Non- setDelhi-NCR\n",
    "\n",
    "# Data frame where Delhi-NCR is considered\n",
    "m = df[df['City']==\"Delhi-NCR\"]\n",
    "\n",
    "cuisine_dict={}\n",
    "m['Cuisines'].dropna(inplace=True)\n",
    "\n",
    "#convert function\n",
    "def convertCuisines(name):\n",
    "    l = [x.strip() for x in name.split(',')]\n",
    "    for i in l:\n",
    "        if i != '':\n",
    "            cuisine_dict[i] = cuisine_dict.get(i,0) + 1\n",
    "            \n",
    "m['Cuisines'].apply(convertCuisines)\n",
    "\n",
    "sorted_x = sorted(cuisine_dict.items(), key=lambda kv: kv[1], reverse=True)\n",
    "\n",
    "for i in range(len(sorted_x)):\n",
    "    D_Set.add(sorted_x[i][0])\n",
    "    \n",
    "\n",
    "\n",
    "# Data frame where Delhi-NCR is not considered\n",
    "m = df[df['City']!=\"Delhi-NCR\"]\n",
    "\n",
    "\n",
    "\n",
    "cuisine_dict={}\n",
    "m['Cuisines'].dropna(inplace=True)\n",
    "\n",
    "#convert function\n",
    "def convertCuisines2(name):\n",
    "    l = [x.strip() for x in name.split(',')]\n",
    "    for i in l:\n",
    "        if i != '':\n",
    "            cuisine_dict[i] = cuisine_dict.get(i,0) + 1\n",
    "            \n",
    "m['Cuisines'].apply(convertCuisines2)\n",
    "\n",
    "sorted_x = sorted(cuisine_dict.items(), key=lambda kv: kv[1], reverse=True)\n",
    "\n",
    "for i in range(len(sorted_x)):\n",
    "    R_Set.add(sorted_x[i][0])\n",
    "    \n",
    "print(\"Cuisines not served are:\")\n",
    "print(R_Set.difference(D_Set))"
   ]
  },
  {
   "cell_type": "code",
   "execution_count": 8,
   "metadata": {},
   "outputs": [
    {
     "name": "stdout",
     "output_type": "stream",
     "text": [
      "Backwater Bistro    :    Chinese, Malwani, South Indian, Biryani, Continental\n"
     ]
    }
   ],
   "source": [
    "#imp library\n",
    "import requests \n",
    "\n",
    "user_key='3754f0440b3026cde542ed69af9f499a' \n",
    "basic_api='https://developers.zomato.com/api/v2.1' \n",
    "\n",
    "params={'city_id':1} \n",
    "header={\"User-agent\": \"curl/7.43.0\",'Accept': 'application/json','user-key':user_key} \n",
    "response=requests.get(basic_api+'/cuisines',headers=header,params=params) \n",
    "\n",
    "#finding cuisine id for Malwani\n",
    "cuisine_id=0 \n",
    "for i in response.json().get('cuisines'): \n",
    "    if(i.get('cuisine').get('cuisine_name')=='Malwani'): \n",
    "        cuisine_id=i.get('cuisine').get('cuisine_id') \n",
    "        cuid = cuisine_id\n",
    "        \n",
    "        \n",
    "#Checking if any Malwani cuisine resturant in Delhi on Zomato API\n",
    "d={}\n",
    "token='38f5795b04781ebdf58353b71c437e72' \n",
    "headers={'user-key' : token, 'Accept': 'application/json'} \n",
    "\n",
    "params = {'count':10,'entity_id':1 ,'entity_type':'city','cuisines': str(cuid), 'sort': 'rating' , 'order': 'desc'}\n",
    "response=requests.get('https://developers.zomato.com/api/v2.1/search',params=params, headers=headers) \n",
    "ans = response.json()\n",
    "for i in ans[\"restaurants\"]:\n",
    "        print(i[\"restaurant\"]['name'],\"   :   \",i[\"restaurant\"]['cuisines'])\n",
    "\n",
    "# Checked using Zomato API the cuisines are served but error is due to incomplete dataset"
   ]
  },
  {
   "cell_type": "markdown",
   "metadata": {},
   "source": [
    "#### 1 c)\n",
    "\n",
    "#### Find the top 10 cuisines served by maximum number of restaurants in Delhi NCR and rest of India."
   ]
  },
  {
   "cell_type": "code",
   "execution_count": 9,
   "metadata": {},
   "outputs": [
    {
     "name": "stdout",
     "output_type": "stream",
     "text": [
      "Cuisines served in NCR-Delhi:\n",
      "North Indian 3597\n",
      "Chinese 2448\n",
      "Fast Food 1866\n",
      "Mughlai 933\n",
      "Bakery 697\n",
      "South Indian 569\n",
      "Continental 547\n",
      "Desserts 542\n",
      "Street Food 538\n",
      "Italian 535\n",
      "\n",
      "Cuisines served outside NCR-Delhi:\n",
      "North Indian 349\n",
      "Chinese 242\n",
      "Continental 177\n",
      "Italian 147\n",
      "Cafe 136\n",
      "Fast Food 97\n",
      "South Indian 62\n",
      "Mughlai 59\n",
      "Desserts 55\n",
      "Mexican 50\n"
     ]
    }
   ],
   "source": [
    "#setpath\n",
    "path = 'zomato2.csv'\n",
    "\n",
    "#import libraries\n",
    "import pandas as pd\n",
    "import numpy as np\n",
    "import matplotlib.pyplot as plt\n",
    "import matplotlib \n",
    "\n",
    "df = pd.read_csv(path)\n",
    "df = df[df['Country Code'] == 1]\n",
    "\n",
    "#replace error entries\n",
    "df['City'].dropna(inplace=True)\n",
    "df['City'].replace(\"New Delhi\",\"Delhi-NCR\",inplace=True)\n",
    "df['City'].replace(\"Ghaziabad\",\"Delhi-NCR\",inplace=True)\n",
    "df['City'].replace(\"Noida\",\"Delhi-NCR\",inplace=True)\n",
    "df['City'].replace(\"Gurgaon\",\"Delhi-NCR\",inplace=True)\n",
    "df['City'].replace(\"Faridabad\",\"Delhi-NCR\",inplace=True)\n",
    "\n",
    "\n",
    "\n",
    "df['City'] = np.where(df['City']!=\"Delhi-NCR\",'RoIndia','Delhi-NCR')\n",
    "\n",
    "# Data frame where Delhi-NCR is considered\n",
    "m = df[df['City']==\"Delhi-NCR\"]\n",
    "\n",
    "cuisine_dict={}\n",
    "m['Cuisines'].dropna(inplace=True)\n",
    "\n",
    "#convert function\n",
    "def convertCuisines(name):\n",
    "    l = [x.strip() for x in name.split(',')]\n",
    "    for i in l:\n",
    "        if i != '':\n",
    "            cuisine_dict[i] = cuisine_dict.get(i,0) + 1\n",
    "            \n",
    "m['Cuisines'].apply(convertCuisines)\n",
    "\n",
    "sorted_x = sorted(cuisine_dict.items(), key=lambda kv: kv[1], reverse=True)\n",
    "\n",
    "print(\"Cuisines served in NCR-Delhi:\")\n",
    "for i in range(10):\n",
    "    print(sorted_x[i][0],sorted_x[i][1])\n",
    "    \n",
    "    \n",
    "print()\n",
    "\n",
    "# Data frame where Delhi-NCR is not considered\n",
    "m = df[df['City']!=\"Delhi-NCR\"]\n",
    "\n",
    "cuisine_dict={}\n",
    "m['Cuisines'].dropna(inplace=True)\n",
    "\n",
    "#convert function\n",
    "def convertCuisines2(name):\n",
    "    l = [x.strip() for x in name.split(',')]\n",
    "    for i in l:\n",
    "        if i != '':\n",
    "            cuisine_dict[i] = cuisine_dict.get(i,0) + 1\n",
    "            \n",
    "m['Cuisines'].apply(convertCuisines2)\n",
    "\n",
    "sorted_x = sorted(cuisine_dict.items(), key=lambda kv: kv[1], reverse=True)\n",
    "\n",
    "print(\"Cuisines served outside NCR-Delhi:\")\n",
    "\n",
    "for i in range(10):\n",
    "    print(sorted_x[i][0],sorted_x[i][1])"
   ]
  },
  {
   "cell_type": "markdown",
   "metadata": {},
   "source": [
    "#### 1 a)\n",
    "\n",
    "#### Write a short detailed analysis of how cuisine served is different from Delhi NCR to Rest of India. Plot the suitable graph to explain your inference."
   ]
  },
  {
   "cell_type": "code",
   "execution_count": 10,
   "metadata": {},
   "outputs": [
    {
     "name": "stdout",
     "output_type": "stream",
     "text": [
      "\n"
     ]
    },
    {
     "data": {
      "image/png": "[encoded data removed]",
      "text/plain": [
       "<Figure size 720x720 with 1 Axes>"
      ]
     },
     "metadata": {
      "needs_background": "light"
     },
     "output_type": "display_data"
    }
   ],
   "source": [
    "#setpath\n",
    "path = 'zomato2.csv'\n",
    "\n",
    "#import libraries\n",
    "import pandas as pd\n",
    "import numpy as np\n",
    "import matplotlib.pyplot as plt\n",
    "import matplotlib \n",
    "\n",
    "df = pd.read_csv(path)\n",
    "df = df[df['Country Code'] == 1]\n",
    "\n",
    "#replace error entries\n",
    "df['City'].dropna(inplace=True)\n",
    "df['City'].replace(\"New Delhi\",\"Delhi-NCR\",inplace=True)\n",
    "df['City'].replace(\"Ghaziabad\",\"Delhi-NCR\",inplace=True)\n",
    "df['City'].replace(\"Noida\",\"Delhi-NCR\",inplace=True)\n",
    "df['City'].replace(\"Gurgaon\",\"Delhi-NCR\",inplace=True)\n",
    "df['City'].replace(\"Faridabad\",\"Delhi-NCR\",inplace=True)\n",
    "\n",
    "\n",
    "\n",
    "df['City'] = np.where(df['City']!=\"Delhi-NCR\",'RoIndia','Delhi-NCR')\n",
    "\n",
    "m = df[df['City']==\"Delhi-NCR\"]\n",
    "\n",
    "\n",
    "\n",
    "city={}\n",
    "m['Cuisines'].dropna(inplace=True)\n",
    "\n",
    "#convert function\n",
    "def convertInvestorsMultiple(name):\n",
    "    l = [x.strip() for x in name.split(',')]\n",
    "    for i in l:\n",
    "        if i != '':\n",
    "            city[i] = city.get(i,0) + 1\n",
    "            \n",
    "m['Cuisines'].apply(convertInvestorsMultiple)\n",
    "\n",
    "x1=[]\n",
    "y1=[]\n",
    "sorted_x = sorted(city.items(), key=lambda kv: kv[1], reverse=True)\n",
    "for i in range(20):\n",
    "    x1.append(sorted_x[i][0])\n",
    "    y1.append(sorted_x[i][1])\n",
    "    \n",
    "    \n",
    "print()\n",
    "\n",
    "m = df[df['City']!=\"Delhi-NCR\"]\n",
    "\n",
    "\n",
    "\n",
    "city={}\n",
    "m['Cuisines'].dropna(inplace=True)\n",
    "\n",
    "#convert function\n",
    "def convertInvestorsMultiple(name):\n",
    "    l = [x.strip() for x in name.split(',')]\n",
    "    for i in l:\n",
    "        if i != '':\n",
    "            city[i] = city.get(i,0) + 1\n",
    "            \n",
    "m['Cuisines'].apply(convertInvestorsMultiple)\n",
    "x2=[]\n",
    "y2=[]\n",
    "sorted_x = sorted(city.items(), key=lambda kv: kv[1], reverse=True)\n",
    "\n",
    "for i in range(20):\n",
    "    x2.append(sorted_x[i][0])\n",
    "    y2.append(sorted_x[i][1])\n",
    "    \n",
    "#Plot Graph\n",
    "plt.title('No. of Restaurant in Delhi-NCR V/S Rest of India', fontsize=\"15\")\n",
    "plt.xlabel('Regions',fontsize=\"12\")\n",
    "plt.ylabel('No. of Restaurant',fontsize=\"12\")\n",
    "plt.xticks(rotation = 90)\n",
    "matplotlib.rcParams['figure.figsize'] = [10,10]\n",
    "plt.bar(x1,y1,color = 'yellow', edgecolor = 'black')\n",
    "plt.bar(x2,y2,color = 'green', edgecolor = 'black')\n",
    "plt.show()"
   ]
  }
 ],
 "metadata": {
  "kernelspec": {
   "display_name": "Python 3",
   "language": "python",
   "name": "python3"
  },
  "language_info": {
   "codemirror_mode": {
    "name": "ipython",
    "version": 3
   },
   "file_extension": ".py",
   "mimetype": "text/x-python",
   "name": "python",
   "nbconvert_exporter": "python",
   "pygments_lexer": "ipython3",
   "version": "3.7.4"
  }
 },
 "nbformat": 4,
 "nbformat_minor": 2
}
